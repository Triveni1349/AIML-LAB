{
  "nbformat": 4,
  "nbformat_minor": 0,
  "metadata": {
    "colab": {
      "provenance": [],
      "authorship_tag": "ABX9TyOO8JknHQ5ol8YgaV0kAvPK",
      "include_colab_link": true
    },
    "kernelspec": {
      "name": "python3",
      "display_name": "Python 3"
    },
    "language_info": {
      "name": "python"
    }
  },
  "cells": [
    {
      "cell_type": "markdown",
      "metadata": {
        "id": "view-in-github",
        "colab_type": "text"
      },
      "source": [
        "<a href=\"https://colab.research.google.com/github/Triveni1349/AIML-LAB/blob/main/Assignment1.ipynb\" target=\"_parent\"><img src=\"https://colab.research.google.com/assets/colab-badge.svg\" alt=\"Open In Colab\"/></a>"
      ]
    },
    {
      "cell_type": "code",
      "source": [
        "friuts=[\"apple\",\"cherry\",\"mango\"]\n",
        "print(friuts)"
      ],
      "metadata": {
        "colab": {
          "base_uri": "https://localhost:8080/"
        },
        "id": "NhapcJ_dkQSm",
        "outputId": "b7cdbb41-8792-4e64-b73f-61dfb5316c5f"
      },
      "execution_count": 2,
      "outputs": [
        {
          "output_type": "stream",
          "name": "stdout",
          "text": [
            "['apple', 'cherry', 'mango']\n"
          ]
        }
      ]
    },
    {
      "cell_type": "code",
      "source": [
        "import pandas as pd\n",
        "friuts=[\"mango\",\"cherry\",\"apple\"]\n",
        "print(friuts)"
      ],
      "metadata": {
        "colab": {
          "base_uri": "https://localhost:8080/"
        },
        "id": "7TYlaIhKm1vq",
        "outputId": "8ee24ab8-1b03-4e4a-dd9e-31eb3f7ae0b0"
      },
      "execution_count": 3,
      "outputs": [
        {
          "output_type": "stream",
          "name": "stdout",
          "text": [
            "['mango', 'cherry', 'apple']\n"
          ]
        }
      ]
    },
    {
      "cell_type": "code",
      "source": [
        "import numpy as np\n",
        "numbers=np.array([1,2,3,4,5])\n",
        "print(numbers)"
      ],
      "metadata": {
        "colab": {
          "base_uri": "https://localhost:8080/"
        },
        "id": "-IwRcA5gnfiJ",
        "outputId": "382cdafa-e2a6-497f-feb9-f483a4f62235"
      },
      "execution_count": 4,
      "outputs": [
        {
          "output_type": "stream",
          "name": "stdout",
          "text": [
            "[1 2 3 4 5]\n"
          ]
        }
      ]
    },
    {
      "cell_type": "code",
      "source": [
        "import pandas as pd\n",
        "fruits=[\"apple\",\"banana\",\"cherry\"]\n",
        "print(type(fruits))"
      ],
      "metadata": {
        "colab": {
          "base_uri": "https://localhost:8080/"
        },
        "id": "fb79J8bHpzZ3",
        "outputId": "2ad47dcf-76d4-4cac-8613-508aba24f206"
      },
      "execution_count": 6,
      "outputs": [
        {
          "output_type": "stream",
          "name": "stdout",
          "text": [
            "<class 'list'>\n"
          ]
        }
      ]
    },
    {
      "cell_type": "code",
      "source": [
        "import numpy as np\n",
        "numbers=np.array([9,8,7,6,5])\n",
        "print(type(numbers))"
      ],
      "metadata": {
        "colab": {
          "base_uri": "https://localhost:8080/"
        },
        "id": "QL_jwAdUrTnl",
        "outputId": "b4f1bb51-2a36-4f3f-fcb5-c09bc662ddd6"
      },
      "execution_count": 7,
      "outputs": [
        {
          "output_type": "stream",
          "name": "stdout",
          "text": [
            "<class 'numpy.ndarray'>\n"
          ]
        }
      ]
    },
    {
      "cell_type": "code",
      "source": [
        "import numpy as np\n",
        "num1=np.array([1,2,3])\n",
        "num2=np.array([4,5,6])\n",
        "print(num1*num2)\n",
        "print(num1/num2)\n",
        "print(num1**2)\n",
        "print(num2**2)"
      ],
      "metadata": {
        "colab": {
          "base_uri": "https://localhost:8080/"
        },
        "id": "CCA3Rs1RtXOJ",
        "outputId": "c741d573-4956-49d0-c736-a4d624c17dc7"
      },
      "execution_count": 11,
      "outputs": [
        {
          "output_type": "stream",
          "name": "stdout",
          "text": [
            "[ 4 10 18]\n",
            "[0.25 0.4  0.5 ]\n",
            "[1 4 9]\n",
            "[16 25 36]\n"
          ]
        }
      ]
    },
    {
      "cell_type": "code",
      "source": [
        "import numpy as np\n",
        "array1 = np.array([1,3,4])\n",
        "array2 = np.array([5,7,8])\n",
        "result = np.add(array1,array2)\n",
        "print(\"Addition of two arrays\")\n",
        "print(result)"
      ],
      "metadata": {
        "colab": {
          "base_uri": "https://localhost:8080/"
        },
        "id": "ZNWv8QlAw7g_",
        "outputId": "05077f92-59fd-40ff-bad8-4c2e4fe46461"
      },
      "execution_count": 18,
      "outputs": [
        {
          "output_type": "stream",
          "name": "stdout",
          "text": [
            "Addition of two arrays\n",
            "[ 6 10 12]\n"
          ]
        }
      ]
    },
    {
      "cell_type": "code",
      "source": [
        "import numpy as np\n",
        "my_list=[1,2,3,4,5]\n",
        "my_array=np.array(my_list)\n",
        "sin_x = np.sin(my_array)\n",
        "print(f\"sin({my_array}) = {sin_x}\")\n",
        "log_x = np.log(x)\n",
        "print(f\"log({my_array}) = {log_x}\")\n",
        "log2_x = np.log2(my_array)\n",
        "print(f\"log2({my_array}) = {log2_x}\")\n",
        "exp_x = np.exp(my_array)\n",
        "print(f\"exp({my_array}) = {exp_x}\")"
      ],
      "metadata": {
        "colab": {
          "base_uri": "https://localhost:8080/",
          "height": 228
        },
        "id": "xAqC4j2722gH",
        "outputId": "27f4ced3-beaf-4968-e0bf-63a8cffd5c69"
      },
      "execution_count": 19,
      "outputs": [
        {
          "output_type": "stream",
          "name": "stdout",
          "text": [
            "sin([1 2 3 4 5]) = [ 0.84147098  0.90929743  0.14112001 -0.7568025  -0.95892427]\n"
          ]
        },
        {
          "output_type": "error",
          "ename": "NameError",
          "evalue": "name 'x' is not defined",
          "traceback": [
            "\u001b[0;31m---------------------------------------------------------------------------\u001b[0m",
            "\u001b[0;31mNameError\u001b[0m                                 Traceback (most recent call last)",
            "\u001b[0;32m<ipython-input-19-15c9c02d8d0d>\u001b[0m in \u001b[0;36m<cell line: 6>\u001b[0;34m()\u001b[0m\n\u001b[1;32m      4\u001b[0m \u001b[0msin_x\u001b[0m \u001b[0;34m=\u001b[0m \u001b[0mnp\u001b[0m\u001b[0;34m.\u001b[0m\u001b[0msin\u001b[0m\u001b[0;34m(\u001b[0m\u001b[0mmy_array\u001b[0m\u001b[0;34m)\u001b[0m\u001b[0;34m\u001b[0m\u001b[0;34m\u001b[0m\u001b[0m\n\u001b[1;32m      5\u001b[0m \u001b[0mprint\u001b[0m\u001b[0;34m(\u001b[0m\u001b[0;34mf\"sin({my_array}) = {sin_x}\"\u001b[0m\u001b[0;34m)\u001b[0m\u001b[0;34m\u001b[0m\u001b[0;34m\u001b[0m\u001b[0m\n\u001b[0;32m----> 6\u001b[0;31m \u001b[0mlog_x\u001b[0m \u001b[0;34m=\u001b[0m \u001b[0mnp\u001b[0m\u001b[0;34m.\u001b[0m\u001b[0mlog\u001b[0m\u001b[0;34m(\u001b[0m\u001b[0mx\u001b[0m\u001b[0;34m)\u001b[0m\u001b[0;34m\u001b[0m\u001b[0;34m\u001b[0m\u001b[0m\n\u001b[0m\u001b[1;32m      7\u001b[0m \u001b[0mprint\u001b[0m\u001b[0;34m(\u001b[0m\u001b[0;34mf\"log({my_array}) = {log_x}\"\u001b[0m\u001b[0;34m)\u001b[0m\u001b[0;34m\u001b[0m\u001b[0;34m\u001b[0m\u001b[0m\n\u001b[1;32m      8\u001b[0m \u001b[0mlog2_x\u001b[0m \u001b[0;34m=\u001b[0m \u001b[0mnp\u001b[0m\u001b[0;34m.\u001b[0m\u001b[0mlog2\u001b[0m\u001b[0;34m(\u001b[0m\u001b[0mmy_array\u001b[0m\u001b[0;34m)\u001b[0m\u001b[0;34m\u001b[0m\u001b[0;34m\u001b[0m\u001b[0m\n",
            "\u001b[0;31mNameError\u001b[0m: name 'x' is not defined"
          ]
        }
      ]
    },
    {
      "cell_type": "code",
      "source": [
        "import numpy as np\n",
        "my_list=[1,2,3,4,5]\n",
        "my_array=np.array(my_list)\n",
        "sin_x = np.sin(my_array)\n",
        "print(f\"sin({my_array}) = {sin_x}\")\n",
        "log_x = np.log(my_array)\n",
        "print(f\"log({my_array}) = {log_x}\")\n",
        "log2_x = np.log2(my_array)\n",
        "print(f\"log2({my_array}) = {log2_x}\")\n",
        "exp_x = np.exp(my_array)\n",
        "print(f\"exp({my_array}) = {exp_x}\")"
      ],
      "metadata": {
        "colab": {
          "base_uri": "https://localhost:8080/"
        },
        "id": "OnMgScjc5BCO",
        "outputId": "fdfbb672-8a39-491a-feef-2507515cf77c"
      },
      "execution_count": 22,
      "outputs": [
        {
          "output_type": "stream",
          "name": "stdout",
          "text": [
            "sin([1 2 3 4 5]) = [ 0.84147098  0.90929743  0.14112001 -0.7568025  -0.95892427]\n",
            "log([1 2 3 4 5]) = [0.         0.69314718 1.09861229 1.38629436 1.60943791]\n",
            "log2([1 2 3 4 5]) = [0.         1.         1.5849625  2.         2.32192809]\n",
            "exp([1 2 3 4 5]) = [  2.71828183   7.3890561   20.08553692  54.59815003 148.4131591 ]\n"
          ]
        }
      ]
    }
  ]
}